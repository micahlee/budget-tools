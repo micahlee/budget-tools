{
 "cells": [
  {
   "cell_type": "code",
   "execution_count": null,
   "metadata": {},
   "outputs": [],
   "source": [
    "require 'sqlite3'\n",
    "\n",
    "db = SQLite3::Database.new 'transactions.db'"
   ]
  },
  {
   "cell_type": "code",
   "execution_count": null,
   "metadata": {},
   "outputs": [],
   "source": [
    "db.execute <<-SQL\n",
    "DROP TABLE ynab_transactions\n",
    "SQL\n",
    "\n",
    "db.execute <<-SQL\n",
    "CREATE TABLE ynab_transactions (\n",
    "  id varchar(155),\n",
    "  date varchar(30),\n",
    "  payee varchar(255),\n",
    "  account varchar(255),\n",
    "  /* Stored as USD cents */\n",
    "  amount int\n",
    ")\n",
    "SQL"
   ]
  },
  {
   "cell_type": "code",
   "execution_count": null,
   "metadata": {},
   "outputs": [],
   "source": [
    "require 'ynab'\n",
    "\n",
    "access_token = ENV['YNAB_TOKEN']\n",
    "\n",
    "ynab_api = YNAB::API.new(access_token)\n",
    "\n",
    "budget_response = ynab_api.budgets.get_budgets\n",
    "budgets = budget_response.data.budgets\n",
    "\n",
    "budget_id = ENV['YNAB_BUDGET_ID']\n",
    "\n",
    "transactions_response = ynab_api.transactions.get_transactions(budget_id, type: 'unapproved')\n",
    "\n",
    "transactions = transactions_response.data.transactions\n",
    "\n",
    "transactions.each do |t|\n",
    "  values = [t.id, t.date.to_s, t.payee_name, t.account_name, t.amount]\n",
    "        db.execute \"insert into ynab_transactions values (?, ?, ?, ?, ?)\", values\n",
    "\n",
    "end\n",
    "nil"
   ]
  },
  {
   "cell_type": "code",
   "execution_count": null,
   "metadata": {},
   "outputs": [],
   "source": [
    "  db.execute( \"select * from ynab_transactions\") do |row|\n",
    "    p row\n",
    "  end"
   ]
  }
 ],
 "metadata": {
  "kernelspec": {
   "display_name": "Ruby 2.5.1",
   "language": "ruby",
   "name": "ruby"
  },
  "language_info": {
   "file_extension": ".rb",
   "mimetype": "application/x-ruby",
   "name": "ruby",
   "version": "2.5.1"
  }
 },
 "nbformat": 4,
 "nbformat_minor": 2
}
