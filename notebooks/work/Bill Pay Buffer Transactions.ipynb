{
 "cells": [
  {
   "cell_type": "code",
   "execution_count": null,
   "metadata": {},
   "outputs": [],
   "source": [
    "require 'ynab'\n",
    "require 'active_support'\n",
    "require 'active_support/core_ext'\n",
    "require 'active_support/core_ext/numeric'\n",
    "\n",
    "access_token = ENV['YNAB_TOKEN']\n",
    "\n",
    "ynab_api = YNAB::API.new(access_token)\n",
    "\n",
    "budget_id = ENNV['YNAB_BUDGET_ID']\n",
    "\n",
    "categories_resp = ynab_api.categories.get_categories(budget_id)\n",
    "category_groups = categories_resp.data.category_groups\n",
    "\n",
    "categories = category_groups.flat_map { |group| group.categories }\n",
    "                            .select { |cat| cat.goal_type == 'MF'}\n",
    "\n",
    "transactions = categories.flat_map do |cat|\n",
    "  ynab_api.transactions.get_transactions_by_category(budget_id, cat.id, since_date: Time.now - 4.weeks)\n",
    "                       .data.transactions.map { |t| { category: cat, transaction: t}}\n",
    "end\n",
    "\n",
    "transactions.sort_by { |group| group[:transaction].date}\n",
    "            .reverse\n",
    "            .each do |group|\n",
    "  c = group[:category]\n",
    "  t = group[:transaction]\n",
    "  puts \"#{t.date} - #{c.name}, #{t.payee_name} - $#{t.amount/1000.0}\"\n",
    "end\n",
    "\n",
    "nil\n"
   ]
  }
 ],
 "metadata": {
  "kernelspec": {
   "display_name": "Ruby 2.5.1",
   "language": "ruby",
   "name": "ruby"
  },
  "language_info": {
   "file_extension": ".rb",
   "mimetype": "application/x-ruby",
   "name": "ruby",
   "version": "2.5.1"
  }
 },
 "nbformat": 4,
 "nbformat_minor": 2
}
